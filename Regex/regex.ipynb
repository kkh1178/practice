{
 "cells": [
  {
   "cell_type": "markdown",
   "metadata": {},
   "source": [
    "#### Learning how to incorporate Regex into python using Jane Austin Quotes and facts."
   ]
  },
  {
   "cell_type": "code",
   "execution_count": null,
   "metadata": {},
   "outputs": [],
   "source": [
    "import pandas as pd\n",
    "import re\n",
    "import base64"
   ]
  },
  {
   "cell_type": "code",
   "execution_count": 22,
   "metadata": {},
   "outputs": [],
   "source": [
    "encoded =[]\n",
    "\n",
    "# Created a text file with multiple lines from Jane Austin novels and facts about her from wiki. I base64 encoded\n",
    "# the data just to see if I could get it to work.\n",
    "\n",
    "# Opening the text file as raw\n",
    "with open('all.txt', 'r') as f:\n",
    "#     Reading the contents\n",
    "    contents = f.read()\n",
    "    \n",
    "#     print(contents)\n",
    "#     Using regex to search for any line that starts with \"text' and is preceeded by any character. ('.text')\n",
    "#     Going to the end of the word (\\w)\n",
    "#     Because it is base64 encoded, the encoded word will end in a character or one equals sign (=), \n",
    "#     or two equals signs(==). I wrote the regex to search for two with both optional\n",
    "    pattern=re.compile(r'.text\\w*=?=?')\n",
    "    \n",
    "#     Used find all to search for the pattern. I could have used finditer but this is easier b/c i'm \n",
    "#    appending to list later.\n",
    "    matches = pattern.findall(contents)\n",
    "    \n",
    "#     Loop for looking to the preceeding number and text and replacing it with nothing. Appending to a list\n",
    "    for match in matches:\n",
    "        new = re.sub(r'.text', '', match)\n",
    "        print(match)\n",
    "        encoded.append(new)\n",
    "        \n",
    "encoded\n"
   ]
  },
  {
   "cell_type": "code",
   "execution_count": 52,
   "metadata": {},
   "outputs": [
    {
     "data": {
      "text/plain": [
       "[\"It is a truth universally acknowledged, that a single man in possession of a good fortune, must be in want of a wife.\\n\\nThere is no charm equal to tenderness of heart.\\n\\nThe person, be it gentleman or lady, who has not pleasure in a good novel, must be intolerably stupid.\\n\\nAh! There is nothing like staying at home, for real comfort.\\n\\nIf I loved you less, I might be able to talk about it more.\\n\\nWhat dreadful hot weather we have! It keeps me in a continual state of inelegance.\\n\\nA lady's imagination is very rapid; it jumps from admiration to love, from love to matrimony in a moment.\\n\\nFriendship is certainly the finest balm for the pangs of disappointed love.\\n\\nTo be fond of dancing was a certain step towards falling in love.\\n\\nHappiness in marriage is entirely a matter of chance.\",\n",
       " \"Jane Austen was an English novelist known primarily for her six major novels, which interpret, critique and comment upon the British landed gentry at the end of the 18th century. Austen's plots often explore the dependence of women on marriage in the pursuit of favourable social standing and economic security.\\n\\nWith the publications of\\xa0Sense and Sensibility\\xa0(1811),\\xa0Pride and Prejudice\\xa0(1813),\\xa0Mansfield Park\\xa0(1814) and\\xa0Emma\\xa0(1816), she achieved success as a published writer. She wrote two additional novels,\\xa0Northanger Abbey\\xa0and\\xa0Persuasion, both published posthumously in 1818, and began another, eventually titled\\xa0Sanditon, but died before its completion. She also left behind three volumes of juvenile writings in manuscript, a short\\xa0epistolary novel\\xa0Lady Susan, and another unfinished novel,\\xa0The Watsons. Her six full-length novels have rarely been out of print, although they were published anonymously and brought her moderate success and little fame during her lifetime.\",\n",
       " '“In vain have I struggled. It will not do. My feelings will not be repressed. You must allow me to tell you how ardently I admire and love you.”']"
      ]
     },
     "execution_count": 52,
     "metadata": {},
     "output_type": "execute_result"
    }
   ],
   "source": [
    "# Decoded the base64 data and then converted the bytes to utf-8. Appended to a list.\n",
    "\n",
    "decode = []\n",
    "for sentence in encoded:\n",
    "    decoded = base64.b64decode(sentence)\n",
    "    string = decoded.decode(\"utf-8\")\n",
    "    decode.append(string)\n",
    "    \n",
    "decode"
   ]
  }
 ],
 "metadata": {
  "kernelspec": {
   "display_name": "Python [conda env:PythonData]",
   "language": "python",
   "name": "conda-env-PythonData-py"
  },
  "language_info": {
   "codemirror_mode": {
    "name": "ipython",
    "version": 3
   },
   "file_extension": ".py",
   "mimetype": "text/x-python",
   "name": "python",
   "nbconvert_exporter": "python",
   "pygments_lexer": "ipython3",
   "version": "3.6.4"
  }
 },
 "nbformat": 4,
 "nbformat_minor": 2
}
